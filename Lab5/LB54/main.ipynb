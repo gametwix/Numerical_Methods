{
 "cells": [
  {
   "cell_type": "code",
   "execution_count": 1,
   "metadata": {},
   "outputs": [],
   "source": [
    "import numpy as np\n",
    "import matplotlib.pyplot as plt"
   ]
  },
  {
   "cell_type": "code",
   "execution_count": 2,
   "metadata": {},
   "outputs": [],
   "source": [
    "nu1 = 1\n",
    "nu2 = 1\n",
    "l = np.pi\n",
    "nx = 11\n",
    "ny = 11\n",
    "tau = 0.01\n",
    "nt = 100"
   ]
  },
  {
   "cell_type": "code",
   "execution_count": 3,
   "metadata": {},
   "outputs": [],
   "source": [
    "def U_0_y_t(y,t):\n",
    "    return np.cos(nu2*y)*np.exp(-(nu1**2 + nu2**2)*t)\n",
    "\n",
    "def U_l_y_t(y,t):\n",
    "    return (-1)**nu1*np.cos(nu2*y)*np.exp(-(nu1**2 + nu2**2)*t)\n",
    "\n",
    "def U_x_0_t(x,t):\n",
    "    return np.cos(nu1*x)*np.exp(-(nu1**2 + nu2**2)*t)\n",
    "\n",
    "def U_x_l_t(x,t):\n",
    "    return (-1)**nu2*np.cos(nu1*x)*np.exp(-(nu1**2 + nu2**2)*t)\n",
    "\n",
    "def U_x_y(x,y):\n",
    "    return np.cos(nu1*x)*np.cos(nu2*y)"
   ]
  },
  {
   "cell_type": "code",
   "execution_count": null,
   "metadata": {},
   "outputs": [],
   "source": []
  }
 ],
 "metadata": {
  "kernelspec": {
   "display_name": "Python 3.9.5 ('ENV': venv)",
   "language": "python",
   "name": "python3"
  },
  "language_info": {
   "codemirror_mode": {
    "name": "ipython",
    "version": 3
   },
   "file_extension": ".py",
   "mimetype": "text/x-python",
   "name": "python",
   "nbconvert_exporter": "python",
   "pygments_lexer": "ipython3",
   "version": "3.9.5"
  },
  "orig_nbformat": 4,
  "vscode": {
   "interpreter": {
    "hash": "35bc7da2885cd6966f22e9b33472bbe8600280cb373b4b038157a011d99f2e93"
   }
  }
 },
 "nbformat": 4,
 "nbformat_minor": 2
}
