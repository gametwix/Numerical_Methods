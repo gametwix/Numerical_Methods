{
 "cells": [
  {
   "cell_type": "code",
   "execution_count": 1,
   "metadata": {},
   "outputs": [],
   "source": [
    "import sympy as sym"
   ]
  },
  {
   "cell_type": "code",
   "execution_count": 2,
   "metadata": {},
   "outputs": [],
   "source": [
    "a = sym.Symbol('a')\n",
    "h1 = sym.Symbol('h_1')\n",
    "h2 = sym.Symbol('h_2')\n",
    "tau = sym.Symbol('\\\\tau')\n",
    "U_ijk = sym.Symbol('U_{i j}^k')\n",
    "U_ijkp12 = sym.Symbol('U_{i j}^{k+1/2}')\n",
    "U_ip1jkp12 = sym.Symbol('U_{i+1 j}^{k+1/2}')\n",
    "U_im1jkp12 = sym.Symbol('U_{i-1 j}^{k+1/2}')\n",
    "U_ijp1kp12 = sym.Symbol('U_{i j+1}^{k+1/2}')\n",
    "U_ijm1kp12 = sym.Symbol('U_{i j-1}^{k+1/2}')\n",
    "U_ijp1k = sym.Symbol('U_{i j+1}^k')\n",
    "U_ijm1k = sym.Symbol('U_{i j-1}^k')\n",
    "f_ijkp12 = sym.Symbol('f_{i j}^{k+1/2}')\n",
    "U_ip1jk = sym.Symbol('U_{i+1 j}^k')\n",
    "U_im1jk = sym.Symbol('U_{i-1 j}^k')\n",
    "U_ijkp1 = sym.Symbol('U_{i j}^{k+1}')\n",
    "U_ijp1kp1 = sym.Symbol('U_{i j+1}^{k+1}')\n",
    "U_ijm1kp1 = sym.Symbol('U_{i j-1}^{k+1}')"
   ]
  },
  {
   "cell_type": "code",
   "execution_count": 13,
   "metadata": {},
   "outputs": [
    {
     "data": {
      "text/latex": [
       "$\\displaystyle \\frac{2 \\left(- U_{i j}^k + U_{i j}^{k+1/2}\\right)}{\\tau}$"
      ],
      "text/plain": [
       "2*(-U_{i j}^k + U_{i j}^{k+1/2})/\\tau"
      ]
     },
     "execution_count": 13,
     "metadata": {},
     "output_type": "execute_result"
    }
   ],
   "source": [
    "left = (U_ijkp12 - U_ijk) / tau *2\n",
    "left"
   ]
  },
  {
   "cell_type": "code",
   "execution_count": 14,
   "metadata": {},
   "outputs": [
    {
     "data": {
      "text/latex": [
       "$\\displaystyle \\frac{U_{i j+1}^k + U_{i j-1}^k - 2 U_{i j}^k}{h_{2}^{2}} + \\frac{- 2 U_{i j}^{k+1/2} + U_{i+1 j}^{k+1/2} + U_{i-1 j}^{k+1/2}}{h_{1}^{2}}$"
      ],
      "text/plain": [
       "(U_{i j+1}^k + U_{i j-1}^k - 2*U_{i j}^k)/h_2**2 + (-2*U_{i j}^{k+1/2} + U_{i+1 j}^{k+1/2} + U_{i-1 j}^{k+1/2})/h_1**2"
      ]
     },
     "execution_count": 14,
     "metadata": {},
     "output_type": "execute_result"
    }
   ],
   "source": [
    "right = (U_ip1jkp12 - 2*U_ijkp12 + U_im1jkp12)/h1**2 + (U_ijp1k - 2*U_ijk + U_ijm1k)/h2**2 \n",
    "right"
   ]
  },
  {
   "cell_type": "code",
   "execution_count": 15,
   "metadata": {},
   "outputs": [
    {
     "data": {
      "text/latex": [
       "$\\displaystyle \\frac{U_{i j+1}^k \\tau h_{1}^{2} + U_{i j-1}^k \\tau h_{1}^{2} - 2 U_{i j}^k \\tau h_{1}^{2} + 2 U_{i j}^k h_{1}^{2} h_{2}^{2} + U_{i+1 j}^{k+1/2} \\tau h_{2}^{2} + U_{i-1 j}^{k+1/2} \\tau h_{2}^{2}}{2 h_{2}^{2} \\left(\\tau + h_{1}^{2}\\right)}$"
      ],
      "text/plain": [
       "(U_{i j+1}^k*\\tau*h_1**2 + U_{i j-1}^k*\\tau*h_1**2 - 2*U_{i j}^k*\\tau*h_1**2 + 2*U_{i j}^k*h_1**2*h_2**2 + U_{i+1 j}^{k+1/2}*\\tau*h_2**2 + U_{i-1 j}^{k+1/2}*\\tau*h_2**2)/(2*h_2**2*(\\tau + h_1**2))"
      ]
     },
     "execution_count": 15,
     "metadata": {},
     "output_type": "execute_result"
    }
   ],
   "source": [
    "solve = sym.solve(right - left, U_ijkp12)[0]\n",
    "solve"
   ]
  },
  {
   "cell_type": "code",
   "execution_count": 16,
   "metadata": {},
   "outputs": [
    {
     "data": {
      "text/latex": [
       "$\\displaystyle \\frac{U_{i j+1}^k \\tau h_{1}^{2}}{2 \\tau h_{2}^{2} + 2 h_{1}^{2} h_{2}^{2}} + \\frac{U_{i j-1}^k \\tau h_{1}^{2}}{2 \\tau h_{2}^{2} + 2 h_{1}^{2} h_{2}^{2}} + U_{i j}^k \\left(- \\frac{2 \\tau h_{1}^{2}}{2 \\tau h_{2}^{2} + 2 h_{1}^{2} h_{2}^{2}} + \\frac{2 h_{1}^{2} h_{2}^{2}}{2 \\tau h_{2}^{2} + 2 h_{1}^{2} h_{2}^{2}}\\right) + \\frac{U_{i+1 j}^{k+1/2} \\tau h_{2}^{2}}{2 \\tau h_{2}^{2} + 2 h_{1}^{2} h_{2}^{2}} + \\frac{U_{i-1 j}^{k+1/2} \\tau h_{2}^{2}}{2 \\tau h_{2}^{2} + 2 h_{1}^{2} h_{2}^{2}}$"
      ],
      "text/plain": [
       "U_{i j+1}^k*\\tau*h_1**2/(2*\\tau*h_2**2 + 2*h_1**2*h_2**2) + U_{i j-1}^k*\\tau*h_1**2/(2*\\tau*h_2**2 + 2*h_1**2*h_2**2) + U_{i j}^k*(-2*\\tau*h_1**2/(2*\\tau*h_2**2 + 2*h_1**2*h_2**2) + 2*h_1**2*h_2**2/(2*\\tau*h_2**2 + 2*h_1**2*h_2**2)) + U_{i+1 j}^{k+1/2}*\\tau*h_2**2/(2*\\tau*h_2**2 + 2*h_1**2*h_2**2) + U_{i-1 j}^{k+1/2}*\\tau*h_2**2/(2*\\tau*h_2**2 + 2*h_1**2*h_2**2)"
      ]
     },
     "execution_count": 16,
     "metadata": {},
     "output_type": "execute_result"
    }
   ],
   "source": [
    "sym.collect(sym.expand(solve), [U_ijk, U_ip1jkp12, U_im1jkp12, U_ijp1k, U_ijm1k, f_ijkp12])"
   ]
  },
  {
   "cell_type": "code",
   "execution_count": 18,
   "metadata": {},
   "outputs": [
    {
     "data": {
      "text/latex": [
       "$\\displaystyle \\frac{2 \\left(- U_{i j}^{k+1/2} + U_{i j}^{k+1}\\right)}{\\tau}$"
      ],
      "text/plain": [
       "2*(-U_{i j}^{k+1/2} + U_{i j}^{k+1})/\\tau"
      ]
     },
     "execution_count": 18,
     "metadata": {},
     "output_type": "execute_result"
    }
   ],
   "source": [
    "left = (U_ijkp1 - U_ijkp12) / tau * 2\n",
    "left"
   ]
  },
  {
   "cell_type": "code",
   "execution_count": 19,
   "metadata": {},
   "outputs": [],
   "source": [
    "right = (U_ip1jkp12 - 2*U_ijkp12 + U_im1jkp12)*a/h1**2 + (U_ijp1kp1 - 2*U_ijkp1 + U_ijm1kp1)*a/h2**2"
   ]
  },
  {
   "cell_type": "code",
   "execution_count": 20,
   "metadata": {},
   "outputs": [
    {
     "data": {
      "text/latex": [
       "$\\displaystyle \\frac{U_{i j+1}^{k+1} \\tau a h_{1}^{2} + U_{i j-1}^{k+1} \\tau a h_{1}^{2} - 2 U_{i j}^{k+1/2} \\tau a h_{2}^{2} + 2 U_{i j}^{k+1/2} h_{1}^{2} h_{2}^{2} + U_{i+1 j}^{k+1/2} \\tau a h_{2}^{2} + U_{i-1 j}^{k+1/2} \\tau a h_{2}^{2}}{2 h_{1}^{2} \\left(\\tau a + h_{2}^{2}\\right)}$"
      ],
      "text/plain": [
       "(U_{i j+1}^{k+1}*\\tau*a*h_1**2 + U_{i j-1}^{k+1}*\\tau*a*h_1**2 - 2*U_{i j}^{k+1/2}*\\tau*a*h_2**2 + 2*U_{i j}^{k+1/2}*h_1**2*h_2**2 + U_{i+1 j}^{k+1/2}*\\tau*a*h_2**2 + U_{i-1 j}^{k+1/2}*\\tau*a*h_2**2)/(2*h_1**2*(\\tau*a + h_2**2))"
      ]
     },
     "execution_count": 20,
     "metadata": {},
     "output_type": "execute_result"
    }
   ],
   "source": [
    "solve = sym.solve(right - left, U_ijkp1)[0]\n",
    "solve"
   ]
  },
  {
   "cell_type": "code",
   "execution_count": 21,
   "metadata": {},
   "outputs": [
    {
     "data": {
      "text/latex": [
       "$\\displaystyle \\frac{U_{i j+1}^{k+1} \\tau a h_{1}^{2}}{2 \\tau a h_{1}^{2} + 2 h_{1}^{2} h_{2}^{2}} + \\frac{U_{i j-1}^{k+1} \\tau a h_{1}^{2}}{2 \\tau a h_{1}^{2} + 2 h_{1}^{2} h_{2}^{2}} + U_{i j}^{k+1/2} \\left(- \\frac{2 \\tau a h_{2}^{2}}{2 \\tau a h_{1}^{2} + 2 h_{1}^{2} h_{2}^{2}} + \\frac{2 h_{1}^{2} h_{2}^{2}}{2 \\tau a h_{1}^{2} + 2 h_{1}^{2} h_{2}^{2}}\\right) + \\frac{U_{i+1 j}^{k+1/2} \\tau a h_{2}^{2}}{2 \\tau a h_{1}^{2} + 2 h_{1}^{2} h_{2}^{2}} + \\frac{U_{i-1 j}^{k+1/2} \\tau a h_{2}^{2}}{2 \\tau a h_{1}^{2} + 2 h_{1}^{2} h_{2}^{2}}$"
      ],
      "text/plain": [
       "U_{i j+1}^{k+1}*\\tau*a*h_1**2/(2*\\tau*a*h_1**2 + 2*h_1**2*h_2**2) + U_{i j-1}^{k+1}*\\tau*a*h_1**2/(2*\\tau*a*h_1**2 + 2*h_1**2*h_2**2) + U_{i j}^{k+1/2}*(-2*\\tau*a*h_2**2/(2*\\tau*a*h_1**2 + 2*h_1**2*h_2**2) + 2*h_1**2*h_2**2/(2*\\tau*a*h_1**2 + 2*h_1**2*h_2**2)) + U_{i+1 j}^{k+1/2}*\\tau*a*h_2**2/(2*\\tau*a*h_1**2 + 2*h_1**2*h_2**2) + U_{i-1 j}^{k+1/2}*\\tau*a*h_2**2/(2*\\tau*a*h_1**2 + 2*h_1**2*h_2**2)"
      ]
     },
     "execution_count": 21,
     "metadata": {},
     "output_type": "execute_result"
    }
   ],
   "source": [
    "sym.collect(sym.expand(solve), [U_ijkp12, U_ip1jkp12, U_im1jkp12, U_ijp1kp1, U_ijm1kp1, f_ijkp12])"
   ]
  },
  {
   "cell_type": "code",
   "execution_count": 26,
   "metadata": {},
   "outputs": [
    {
     "data": {
      "text/latex": [
       "$\\displaystyle \\frac{- U_{i j}^k + U_{i j}^{k+1/2}}{\\tau}$"
      ],
      "text/plain": [
       "(-U_{i j}^k + U_{i j}^{k+1/2})/\\tau"
      ]
     },
     "execution_count": 26,
     "metadata": {},
     "output_type": "execute_result"
    }
   ],
   "source": [
    "left = (U_ijkp12 - U_ijk) / tau \n",
    "left"
   ]
  },
  {
   "cell_type": "code",
   "execution_count": 27,
   "metadata": {},
   "outputs": [],
   "source": [
    "right = (U_ip1jkp12 - 2*U_ijkp12 + U_im1jkp12)/h1**2 "
   ]
  },
  {
   "cell_type": "code",
   "execution_count": 28,
   "metadata": {},
   "outputs": [
    {
     "data": {
      "text/latex": [
       "$\\displaystyle \\frac{U_{i j}^k h_{1}^{2} + U_{i+1 j}^{k+1/2} \\tau + U_{i-1 j}^{k+1/2} \\tau}{2 \\tau + h_{1}^{2}}$"
      ],
      "text/plain": [
       "(U_{i j}^k*h_1**2 + U_{i+1 j}^{k+1/2}*\\tau + U_{i-1 j}^{k+1/2}*\\tau)/(2*\\tau + h_1**2)"
      ]
     },
     "execution_count": 28,
     "metadata": {},
     "output_type": "execute_result"
    }
   ],
   "source": [
    "solve = sym.solve(right - left, U_ijkp12)[0]\n",
    "solve"
   ]
  },
  {
   "cell_type": "code",
   "execution_count": 29,
   "metadata": {},
   "outputs": [
    {
     "data": {
      "text/latex": [
       "$\\displaystyle \\frac{U_{i j}^k h_{1}^{2}}{2 \\tau + h_{1}^{2}} + \\frac{U_{i+1 j}^{k+1/2} \\tau}{2 \\tau + h_{1}^{2}} + \\frac{U_{i-1 j}^{k+1/2} \\tau}{2 \\tau + h_{1}^{2}}$"
      ],
      "text/plain": [
       "U_{i j}^k*h_1**2/(2*\\tau + h_1**2) + U_{i+1 j}^{k+1/2}*\\tau/(2*\\tau + h_1**2) + U_{i-1 j}^{k+1/2}*\\tau/(2*\\tau + h_1**2)"
      ]
     },
     "execution_count": 29,
     "metadata": {},
     "output_type": "execute_result"
    }
   ],
   "source": [
    "sym.collect(sym.expand(solve), [U_ijk, U_ip1jkp12, U_im1jkp12, U_ijp1k, U_ijm1k, f_ijkp12])"
   ]
  }
 ],
 "metadata": {
  "kernelspec": {
   "display_name": "Python 3.9.5 ('ENV': venv)",
   "language": "python",
   "name": "python3"
  },
  "language_info": {
   "codemirror_mode": {
    "name": "ipython",
    "version": 3
   },
   "file_extension": ".py",
   "mimetype": "text/x-python",
   "name": "python",
   "nbconvert_exporter": "python",
   "pygments_lexer": "ipython3",
   "version": "3.9.5"
  },
  "orig_nbformat": 4,
  "vscode": {
   "interpreter": {
    "hash": "35bc7da2885cd6966f22e9b33472bbe8600280cb373b4b038157a011d99f2e93"
   }
  }
 },
 "nbformat": 4,
 "nbformat_minor": 2
}
