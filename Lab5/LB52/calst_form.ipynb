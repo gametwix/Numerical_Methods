{
 "cells": [
  {
   "cell_type": "code",
   "execution_count": 2,
   "metadata": {},
   "outputs": [],
   "source": [
    "\n",
    "import sympy as sym\n"
   ]
  },
  {
   "cell_type": "code",
   "execution_count": 3,
   "metadata": {},
   "outputs": [],
   "source": [
    "Uik = sym.Symbol(\"U^k_i\")\n",
    "Uip1k = sym.Symbol(\"U^k_{i+1}\")\n",
    "Uim1k = sym.Symbol(\"U^k_{i-1}\")\n",
    "Uikp1 = sym.Symbol(\"U^{k+1}_i\")\n",
    "Uikm1 = sym.Symbol(\"U^{k-1}_i\")\n",
    "Uip1kp1 = sym.Symbol(\"U^{k+1}_{i+1}\")\n",
    "Uim1kp1 = sym.Symbol(\"U^{k+1}_{i-1}\")\n",
    "\n",
    "a = sym.Symbol(\"a\")\n",
    "b = sym.Symbol(\"b\")\n",
    "c = sym.Symbol(\"c\")\n",
    "e = sym.Symbol(\"e\")\n",
    "h = sym.Symbol(\"h\")\n",
    "f = sym.Symbol(\"f\")\n",
    "tau = sym.Symbol(\"\\\\tau\")"
   ]
  },
  {
   "cell_type": "markdown",
   "metadata": {},
   "source": [
    "# Явный метод"
   ]
  },
  {
   "cell_type": "code",
   "execution_count": 49,
   "metadata": {},
   "outputs": [],
   "source": [
    "Udx_expl = (Uip1k - Uim1k) / (2*h)\n",
    "Udxdx_expl = (Uip1k - 2*Uik + Uim1k) / (h**2)\n",
    "\n",
    "\n",
    "Udt = (Uikp1 - Uik) / tau\n",
    "\n",
    "Udtdt = (Uikp1 - 2*Uik + Uikm1) / (tau**2)"
   ]
  },
  {
   "cell_type": "markdown",
   "metadata": {},
   "source": [
    "## Средние точки"
   ]
  },
  {
   "cell_type": "code",
   "execution_count": 50,
   "metadata": {},
   "outputs": [
    {
     "data": {
      "text/latex": [
       "$\\displaystyle \\frac{e \\left(- U^{k}_{i} + U^{k+1}_i\\right)}{\\tau} + \\frac{- 2 U^{k}_{i} + U^{k+1}_i + U^{k-1}_i}{\\tau^{2}}$"
      ],
      "text/plain": [
       "e*(-U^k_i + U^{k+1}_i)/\\tau + (-2*U^k_i + U^{k+1}_i + U^{k-1}_i)/\\tau**2"
      ]
     },
     "execution_count": 50,
     "metadata": {},
     "output_type": "execute_result"
    }
   ],
   "source": [
    "left_expl = Udtdt + e*Udt\n",
    "left_expl"
   ]
  },
  {
   "cell_type": "code",
   "execution_count": 51,
   "metadata": {},
   "outputs": [
    {
     "data": {
      "text/latex": [
       "$\\displaystyle U^{k}_{i} c + \\frac{a \\left(- 2 U^{k}_{i} + U^k_{i+1} + U^k_{i-1}\\right)}{h^{2}} + \\frac{b \\left(U^k_{i+1} - U^k_{i-1}\\right)}{2 h} + f$"
      ],
      "text/plain": [
       "U^k_i*c + a*(-2*U^k_i + U^k_{i+1} + U^k_{i-1})/h**2 + b*(U^k_{i+1} - U^k_{i-1})/(2*h) + f"
      ]
     },
     "execution_count": 51,
     "metadata": {},
     "output_type": "execute_result"
    }
   ],
   "source": [
    "right_expl = a*Udxdx_expl + b*Udx_expl + c*Uik + f\n",
    "right_expl"
   ]
  },
  {
   "cell_type": "code",
   "execution_count": 52,
   "metadata": {},
   "outputs": [
    {
     "data": {
      "text/latex": [
       "$\\displaystyle U^{k}_{i} c + \\frac{a \\left(- 2 U^{k}_{i} + U^k_{i+1} + U^k_{i-1}\\right)}{h^{2}} + \\frac{b \\left(U^k_{i+1} - U^k_{i-1}\\right)}{2 h} + f - \\frac{e \\left(- U^{k}_{i} + U^{k+1}_i\\right)}{\\tau} - \\frac{- 2 U^{k}_{i} + U^{k+1}_i + U^{k-1}_i}{\\tau^{2}}$"
      ],
      "text/plain": [
       "U^k_i*c + a*(-2*U^k_i + U^k_{i+1} + U^k_{i-1})/h**2 + b*(U^k_{i+1} - U^k_{i-1})/(2*h) + f - e*(-U^k_i + U^{k+1}_i)/\\tau - (-2*U^k_i + U^{k+1}_i + U^{k-1}_i)/\\tau**2"
      ]
     },
     "execution_count": 52,
     "metadata": {},
     "output_type": "execute_result"
    }
   ],
   "source": [
    "hyper_expl = right_expl - left_expl\n",
    "hyper_expl"
   ]
  },
  {
   "cell_type": "code",
   "execution_count": 53,
   "metadata": {},
   "outputs": [
    {
     "data": {
      "text/latex": [
       "$\\displaystyle \\frac{- 2 U^{k}_{i} \\tau^{2} a + U^{k}_{i} \\tau^{2} c h^{2} + U^{k}_{i} \\tau e h^{2} + 2 U^{k}_{i} h^{2} + U^k_{i+1} \\tau^{2} a + \\frac{U^k_{i+1} \\tau^{2} b h}{2} + U^k_{i-1} \\tau^{2} a - \\frac{U^k_{i-1} \\tau^{2} b h}{2} - U^{k-1}_i h^{2} + \\tau^{2} f h^{2}}{h^{2} \\left(\\tau e + 1\\right)}$"
      ],
      "text/plain": [
       "(-2*U^k_i*\\tau**2*a + U^k_i*\\tau**2*c*h**2 + U^k_i*\\tau*e*h**2 + 2*U^k_i*h**2 + U^k_{i+1}*\\tau**2*a + U^k_{i+1}*\\tau**2*b*h/2 + U^k_{i-1}*\\tau**2*a - U^k_{i-1}*\\tau**2*b*h/2 - U^{k-1}_i*h**2 + \\tau**2*f*h**2)/(h**2*(\\tau*e + 1))"
      ]
     },
     "execution_count": 53,
     "metadata": {},
     "output_type": "execute_result"
    }
   ],
   "source": [
    "solve_expl = sym.solve(hyper_expl,Uikp1)[0]\n",
    "solve_expl"
   ]
  },
  {
   "cell_type": "markdown",
   "metadata": {},
   "source": [
    "### Итог"
   ]
  },
  {
   "cell_type": "code",
   "execution_count": 9,
   "metadata": {},
   "outputs": [
    {
     "data": {
      "text/latex": [
       "$\\displaystyle U^{k}_{i} \\left(- \\frac{2 \\tau^{2} a}{\\tau e h^{2} + h^{2}} + \\frac{\\tau^{2} c h^{2}}{\\tau e h^{2} + h^{2}} + \\frac{\\tau e h^{2}}{\\tau e h^{2} + h^{2}} + \\frac{2 h^{2}}{\\tau e h^{2} + h^{2}}\\right) + U^k_{i+1} \\left(\\frac{\\tau^{2} a}{\\tau e h^{2} + h^{2}} + \\frac{\\tau^{2} b h}{2 \\tau e h^{2} + 2 h^{2}}\\right) + U^k_{i-1} \\left(\\frac{\\tau^{2} a}{\\tau e h^{2} + h^{2}} - \\frac{\\tau^{2} b h}{2 \\tau e h^{2} + 2 h^{2}}\\right) - \\frac{U^{k-1}_i h^{2}}{\\tau e h^{2} + h^{2}} + \\frac{\\tau^{2} f h^{2}}{\\tau e h^{2} + h^{2}}$"
      ],
      "text/plain": [
       "U^k_i*(-2*\\tau**2*a/(\\tau*e*h**2 + h**2) + \\tau**2*c*h**2/(\\tau*e*h**2 + h**2) + \\tau*e*h**2/(\\tau*e*h**2 + h**2) + 2*h**2/(\\tau*e*h**2 + h**2)) + U^k_{i+1}*(\\tau**2*a/(\\tau*e*h**2 + h**2) + \\tau**2*b*h/(2*\\tau*e*h**2 + 2*h**2)) + U^k_{i-1}*(\\tau**2*a/(\\tau*e*h**2 + h**2) - \\tau**2*b*h/(2*\\tau*e*h**2 + 2*h**2)) - U^{k-1}_i*h**2/(\\tau*e*h**2 + h**2) + \\tau**2*f*h**2/(\\tau*e*h**2 + h**2)"
      ]
     },
     "execution_count": 9,
     "metadata": {},
     "output_type": "execute_result"
    }
   ],
   "source": [
    "sym.collect(sym.expand(solve_expl), [Uik, Uip1k, Uim1k])"
   ]
  },
  {
   "cell_type": "markdown",
   "metadata": {},
   "source": [
    "## Граничные точки"
   ]
  },
  {
   "cell_type": "code",
   "execution_count": 10,
   "metadata": {},
   "outputs": [],
   "source": [
    "alph = sym.Symbol(\"\\\\alpha\")\n",
    "bet = sym.Symbol(\"\\\\beta\")\n",
    "gam = sym.Symbol(\"\\\\gamma\")\n",
    "delt = sym.Symbol(\"\\\\delta\")"
   ]
  },
  {
   "cell_type": "code",
   "execution_count": 11,
   "metadata": {},
   "outputs": [
    {
     "data": {
      "text/latex": [
       "$\\displaystyle U_0^{k+1} \\beta + \\frac{\\alpha \\left(- U_0^{k+1} + U_1^{k+1}\\right)}{h} - \\varphi_0^{k+1}$"
      ],
      "text/plain": [
       "U_0^{k+1}*\\beta + \\alpha*(-U_0^{k+1} + U_1^{k+1})/h - \\varphi_0^{k+1}"
      ]
     },
     "execution_count": 11,
     "metadata": {},
     "output_type": "execute_result"
    }
   ],
   "source": [
    "phi0kp1 = sym.Symbol(\"\\\\varphi_0^{k+1}\")\n",
    "U0kp1 = sym.Symbol(\"U_0^{k+1}\")\n",
    "U1kp1 = sym.Symbol(\"U_1^{k+1}\")\n",
    "U2kp1 = sym.Symbol(\"U_2^{k+1}\")\n",
    "U0kp1dx = (U1kp1 - U0kp1) / h\n",
    "left_0_ex_eq = alph*U0kp1dx + bet*U0kp1 - phi0kp1\n",
    "left_0_ex_eq"
   ]
  },
  {
   "cell_type": "markdown",
   "metadata": {},
   "source": [
    "### Итог 1 порядок 2 точки левая точка"
   ]
  },
  {
   "cell_type": "code",
   "execution_count": 12,
   "metadata": {},
   "outputs": [
    {
     "data": {
      "text/latex": [
       "$\\displaystyle \\frac{U_1^{k+1} \\alpha}{\\alpha - \\beta h} - \\frac{\\varphi_0^{k+1} h}{\\alpha - \\beta h}$"
      ],
      "text/plain": [
       "U_1^{k+1}*\\alpha/(\\alpha - \\beta*h) - \\varphi_0^{k+1}*h/(\\alpha - \\beta*h)"
      ]
     },
     "execution_count": 12,
     "metadata": {},
     "output_type": "execute_result"
    }
   ],
   "source": [
    "solve_left_0_ex = sym.solve(left_0_ex_eq, U0kp1)[0]\n",
    "sym.collect(sym.expand(solve_left_0_ex), [U0kp1, phi0kp1])"
   ]
  },
  {
   "cell_type": "code",
   "execution_count": 13,
   "metadata": {},
   "outputs": [
    {
     "data": {
      "text/latex": [
       "$\\displaystyle U_n^{k+1} \\delta + \\frac{\\gamma \\left(U_n^{k+1} - U_{n-1}^{k+1}\\right)}{h} - \\varphi_n^{k+1}$"
      ],
      "text/plain": [
       "U_n^{k+1}*\\delta + \\gamma*(U_n^{k+1} - U_{n-1}^{k+1})/h - \\varphi_n^{k+1}"
      ]
     },
     "execution_count": 13,
     "metadata": {},
     "output_type": "execute_result"
    }
   ],
   "source": [
    "phinkp1 = sym.Symbol(\"\\\\varphi_n^{k+1}\")\n",
    "Unkp1 = sym.Symbol(\"U_n^{k+1}\")\n",
    "Unm1kp1 = sym.Symbol(\"U_{n-1}^{k+1}\")\n",
    "Unm2kp1 = sym.Symbol(\"U_{n-2}^{k+1}\")\n",
    "Unkp1dx = (Unkp1 - Unm1kp1) / h\n",
    "right_n_ex_eq = gam*Unkp1dx + delt*Unkp1 - phinkp1\n",
    "right_n_ex_eq"
   ]
  },
  {
   "cell_type": "markdown",
   "metadata": {},
   "source": [
    "### Итог 1 порядок 2 точки правая точка"
   ]
  },
  {
   "cell_type": "code",
   "execution_count": 14,
   "metadata": {},
   "outputs": [
    {
     "data": {
      "text/latex": [
       "$\\displaystyle \\frac{U_{n-1}^{k+1} \\gamma}{\\delta h + \\gamma} + \\frac{\\varphi_n^{k+1} h}{\\delta h + \\gamma}$"
      ],
      "text/plain": [
       "U_{n-1}^{k+1}*\\gamma/(\\delta*h + \\gamma) + \\varphi_n^{k+1}*h/(\\delta*h + \\gamma)"
      ]
     },
     "execution_count": 14,
     "metadata": {},
     "output_type": "execute_result"
    }
   ],
   "source": [
    "solve_right_n_ex = sym.solve(right_n_ex_eq, Unkp1)[0]\n",
    "sym.collect(sym.expand(solve_right_n_ex), [Unkp1, phinkp1])"
   ]
  },
  {
   "cell_type": "markdown",
   "metadata": {},
   "source": [
    "### Итог 2 порядок 3 точки левая точка"
   ]
  },
  {
   "cell_type": "code",
   "execution_count": 15,
   "metadata": {},
   "outputs": [
    {
     "data": {
      "text/latex": [
       "$\\displaystyle U_0^{k+1} \\beta + \\frac{\\alpha \\left(- 3 U_0^{k+1} + 4 U_1^{k+1} - U_2^{k+1}\\right)}{2 h} - \\varphi_0^{k+1}$"
      ],
      "text/plain": [
       "U_0^{k+1}*\\beta + \\alpha*(-3*U_0^{k+1} + 4*U_1^{k+1} - U_2^{k+1})/(2*h) - \\varphi_0^{k+1}"
      ]
     },
     "execution_count": 15,
     "metadata": {},
     "output_type": "execute_result"
    }
   ],
   "source": [
    "U0kp1dx2 = (-3*U0kp1 + 4*U1kp1 - U2kp1) / (2*h)\n",
    "left_0_ex_eq2 = alph*U0kp1dx2 + bet*U0kp1 - phi0kp1\n",
    "left_0_ex_eq2"
   ]
  },
  {
   "cell_type": "code",
   "execution_count": 16,
   "metadata": {},
   "outputs": [
    {
     "data": {
      "text/latex": [
       "$\\displaystyle \\frac{4 U_1^{k+1} \\alpha}{3 \\alpha - 2 \\beta h} - \\frac{U_2^{k+1} \\alpha}{3 \\alpha - 2 \\beta h} - \\frac{2 \\varphi_0^{k+1} h}{3 \\alpha - 2 \\beta h}$"
      ],
      "text/plain": [
       "4*U_1^{k+1}*\\alpha/(3*\\alpha - 2*\\beta*h) - U_2^{k+1}*\\alpha/(3*\\alpha - 2*\\beta*h) - 2*\\varphi_0^{k+1}*h/(3*\\alpha - 2*\\beta*h)"
      ]
     },
     "execution_count": 16,
     "metadata": {},
     "output_type": "execute_result"
    }
   ],
   "source": [
    "solve_left_0_ex2 = sym.solve(left_0_ex_eq2, U0kp1)[0]\n",
    "sym.collect(sym.expand(solve_left_0_ex2), [U0kp1, phi0kp1])"
   ]
  },
  {
   "cell_type": "markdown",
   "metadata": {},
   "source": [
    "### Итог 2 порядок 3 точки правая точка"
   ]
  },
  {
   "cell_type": "code",
   "execution_count": 17,
   "metadata": {},
   "outputs": [
    {
     "data": {
      "text/latex": [
       "$\\displaystyle U_n^{k+1} \\delta + \\frac{\\gamma \\left(3 U_n^{k+1} - 4 U_{n-1}^{k+1} + U_{n-2}^{k+1}\\right)}{2 h} - \\varphi_n^{k+1}$"
      ],
      "text/plain": [
       "U_n^{k+1}*\\delta + \\gamma*(3*U_n^{k+1} - 4*U_{n-1}^{k+1} + U_{n-2}^{k+1})/(2*h) - \\varphi_n^{k+1}"
      ]
     },
     "execution_count": 17,
     "metadata": {},
     "output_type": "execute_result"
    }
   ],
   "source": [
    "Unkp1dx2 = (3*Unkp1 - 4*Unm1kp1 + Unm2kp1) / (2*h)\n",
    "right_n_ex_eq2 = gam*Unkp1dx2 + delt*Unkp1 - phinkp1\n",
    "right_n_ex_eq2"
   ]
  },
  {
   "cell_type": "code",
   "execution_count": 18,
   "metadata": {},
   "outputs": [
    {
     "data": {
      "text/latex": [
       "$\\displaystyle \\frac{4 U_{n-1}^{k+1} \\gamma}{2 \\delta h + 3 \\gamma} - \\frac{U_{n-2}^{k+1} \\gamma}{2 \\delta h + 3 \\gamma} + \\frac{2 \\varphi_n^{k+1} h}{2 \\delta h + 3 \\gamma}$"
      ],
      "text/plain": [
       "4*U_{n-1}^{k+1}*\\gamma/(2*\\delta*h + 3*\\gamma) - U_{n-2}^{k+1}*\\gamma/(2*\\delta*h + 3*\\gamma) + 2*\\varphi_n^{k+1}*h/(2*\\delta*h + 3*\\gamma)"
      ]
     },
     "execution_count": 18,
     "metadata": {},
     "output_type": "execute_result"
    }
   ],
   "source": [
    "solve_right_n_ex2 = sym.solve(right_n_ex_eq2, Unkp1)[0]\n",
    "sym.collect(sym.expand(solve_right_n_ex2), [Unkp1, phinkp1])"
   ]
  },
  {
   "cell_type": "markdown",
   "metadata": {},
   "source": [
    "### k = 1 через ряд Тейлора"
   ]
  },
  {
   "cell_type": "code",
   "execution_count": 19,
   "metadata": {},
   "outputs": [],
   "source": [
    "Ui0 = sym.Symbol(\"U_i^0\")\n",
    "Uip10 = sym.Symbol(\"U_{i+1}^0\")\n",
    "Uim10 = sym.Symbol(\"U_{i-1}^0\")\n",
    "Ui1 = sym.Symbol(\"U_i^1\")\n",
    "Ui0dt = sym.Symbol(\"U_i^{0}dt\")\n",
    "Ui0ddt = sym.Symbol(\"U_i^{0}ddt\")"
   ]
  },
  {
   "cell_type": "code",
   "execution_count": 20,
   "metadata": {},
   "outputs": [
    {
     "data": {
      "text/latex": [
       "$\\displaystyle U^{0}_{i} - U^{1}_{i} + \\frac{U_i^{0}ddt \\tau^{2}}{2} + U_i^{0}dt \\tau$"
      ],
      "text/plain": [
       "U_i^0 - U_i^1 + U_i^{0}ddt*\\tau**2/2 + U_i^{0}dt*\\tau"
      ]
     },
     "execution_count": 20,
     "metadata": {},
     "output_type": "execute_result"
    }
   ],
   "source": [
    "k1tay = Ui0 + Ui0dt*tau + Ui0ddt * tau**2 /2 - Ui1 \n",
    "Ui0 + Ui0dt*tau + Ui0ddt * tau**2 /2 - Ui1"
   ]
  },
  {
   "cell_type": "code",
   "execution_count": 21,
   "metadata": {},
   "outputs": [
    {
     "data": {
      "text/latex": [
       "$\\displaystyle U^{k}_{i} c + \\frac{a \\left(- 2 U^{k}_{i} + U^k_{i+1} + U^k_{i-1}\\right)}{h^{2}} + \\frac{b \\left(U^k_{i+1} - U^k_{i-1}\\right)}{2 h} + f$"
      ],
      "text/plain": [
       "U^k_i*c + a*(-2*U^k_i + U^k_{i+1} + U^k_{i-1})/h**2 + b*(U^k_{i+1} - U^k_{i-1})/(2*h) + f"
      ]
     },
     "execution_count": 21,
     "metadata": {},
     "output_type": "execute_result"
    }
   ],
   "source": [
    "right_expl\n"
   ]
  },
  {
   "cell_type": "code",
   "execution_count": 22,
   "metadata": {},
   "outputs": [
    {
     "data": {
      "text/latex": [
       "$\\displaystyle U^{0}_{i} c - U_i^{0}dt e + \\frac{a \\left(- 2 U^{0}_{i} + U_{i+1}^0 + U_{i-1}^0\\right)}{h^{2}} + \\frac{b \\left(U_{i+1}^0 - U_{i-1}^0\\right)}{2 h} + f$"
      ],
      "text/plain": [
       "U_i^0*c - U_i^{0}dt*e + a*(-2*U_i^0 + U_{i+1}^0 + U_{i-1}^0)/h**2 + b*(U_{i+1}^0 - U_{i-1}^0)/(2*h) + f"
      ]
     },
     "execution_count": 22,
     "metadata": {},
     "output_type": "execute_result"
    }
   ],
   "source": [
    "Udtdt0in = (right_expl - e*Ui0dt).subs(Uik, Ui0).subs(Uip1k, Uip10).subs(Uim1k, Uim10)\n",
    "Udtdt0in"
   ]
  },
  {
   "cell_type": "code",
   "execution_count": 23,
   "metadata": {},
   "outputs": [],
   "source": [
    "k1tay_to_solve = k1tay.subs(Ui0ddt, Udtdt0in)"
   ]
  },
  {
   "cell_type": "code",
   "execution_count": 24,
   "metadata": {},
   "outputs": [
    {
     "data": {
      "text/latex": [
       "$\\displaystyle U^{0}_{i} \\left(- \\frac{\\tau^{2} a}{h^{2}} + \\frac{\\tau^{2} c}{2} + 1\\right) - \\frac{U_i^{0}dt \\tau^{2} e}{2} + U_i^{0}dt \\tau + U_{i+1}^0 \\left(\\frac{\\tau^{2} a}{2 h^{2}} + \\frac{\\tau^{2} b}{4 h}\\right) + U_{i-1}^0 \\left(\\frac{\\tau^{2} a}{2 h^{2}} - \\frac{\\tau^{2} b}{4 h}\\right) + \\frac{\\tau^{2} f}{2}$"
      ],
      "text/plain": [
       "U_i^0*(-\\tau**2*a/h**2 + \\tau**2*c/2 + 1) - U_i^{0}dt*\\tau**2*e/2 + U_i^{0}dt*\\tau + U_{i+1}^0*(\\tau**2*a/(2*h**2) + \\tau**2*b/(4*h)) + U_{i-1}^0*(\\tau**2*a/(2*h**2) - \\tau**2*b/(4*h)) + \\tau**2*f/2"
      ]
     },
     "execution_count": 24,
     "metadata": {},
     "output_type": "execute_result"
    }
   ],
   "source": [
    "sym.collect(sym.expand(sym.solve(k1tay_to_solve, Ui1)[0]), [Ui0, Uip10, Uim10, f])"
   ]
  },
  {
   "cell_type": "code",
   "execution_count": 25,
   "metadata": {},
   "outputs": [
    {
     "data": {
      "text/latex": [
       "$\\displaystyle U^{0}_{i} - U^{1}_{i} + U_i^{0}dt \\tau + \\frac{\\tau^{2} \\left(U^{0}_{i} c - U_i^{0}dt e + \\frac{a \\left(- 2 U^{0}_{i} + U_{i+1}^0 + U_{i-1}^0\\right)}{h^{2}} + \\frac{b \\left(U_{i+1}^0 - U_{i-1}^0\\right)}{2 h} + f\\right)}{2}$"
      ],
      "text/plain": [
       "U_i^0 - U_i^1 + U_i^{0}dt*\\tau + \\tau**2*(U_i^0*c - U_i^{0}dt*e + a*(-2*U_i^0 + U_{i+1}^0 + U_{i-1}^0)/h**2 + b*(U_{i+1}^0 - U_{i-1}^0)/(2*h) + f)/2"
      ]
     },
     "execution_count": 25,
     "metadata": {},
     "output_type": "execute_result"
    }
   ],
   "source": [
    "k1tay_to_solve"
   ]
  },
  {
   "cell_type": "markdown",
   "metadata": {},
   "source": [
    "### Итог 2 порядок 2 точки левая точка"
   ]
  },
  {
   "cell_type": "code",
   "execution_count": 26,
   "metadata": {},
   "outputs": [
    {
     "data": {
      "text/latex": [
       "$\\displaystyle U_0^{k+1} - U_1^{k+1} + \\frac{dU}{dx}_0^{k+1} h + \\frac{\\frac{d^2 U}{dx^2}_0^{k+1} h^{2}}{2}$"
      ],
      "text/plain": [
       "U_0^{k+1} - U_1^{k+1} + \\frac{dU}{dx}_0^{k+1}*h + \\frac{d^2 U}{dx^2}_0^{k+1}*h**2/2"
      ]
     },
     "execution_count": 26,
     "metadata": {},
     "output_type": "execute_result"
    }
   ],
   "source": [
    "U0kp1dx = sym.Symbol(\"\\\\frac{dU}{dx}_0^{k+1}\")\n",
    "U0kp1dxdx = sym.Symbol(\"\\\\frac{d^2 U}{dx^2}_0^{k+1}\")\n",
    "U0k = sym.Symbol(\"U_0^k\")\n",
    "U0km1 = sym.Symbol(\"U_0^{k-1}\")\n",
    "U0kp1dxdx = sym.Symbol(\"\\\\frac{d^2 U}{dx^2}_0^{k+1}\")\n",
    "left_teylor_ex_2p2 = U0kp1 + U0kp1dx*h + U0kp1dxdx*(h**2/2)-U1kp1\n",
    "left_teylor_ex_2p2"
   ]
  },
  {
   "cell_type": "code",
   "execution_count": 27,
   "metadata": {},
   "outputs": [
    {
     "data": {
      "text/latex": [
       "$\\displaystyle U_0^{k+1} c + \\frac{dU}{dx}_0^{k+1} b + \\frac{d^2 U}{dx^2}_0^{k+1} a + f - \\frac{e \\left(- U^{k}_{0} + U_0^{k+1}\\right)}{\\tau} - \\frac{- 2 U^{k}_{0} + U_0^{k+1} + U_0^{k-1}}{\\tau^{2}}$"
      ],
      "text/plain": [
       "U_0^{k+1}*c + \\frac{dU}{dx}_0^{k+1}*b + \\frac{d^2 U}{dx^2}_0^{k+1}*a + f - e*(-U_0^k + U_0^{k+1})/\\tau - (-2*U_0^k + U_0^{k+1} + U_0^{k-1})/\\tau**2"
      ]
     },
     "execution_count": 27,
     "metadata": {},
     "output_type": "execute_result"
    }
   ],
   "source": [
    "hyp_left = (a*U0kp1dxdx + b*U0kp1dx + U0kp1*c + f - left_expl).subs(Uik, U0k).subs(Uikp1, U0kp1).subs(Uikm1, U0km1)\n",
    "\n",
    "hyp_left"
   ]
  },
  {
   "cell_type": "code",
   "execution_count": 28,
   "metadata": {},
   "outputs": [
    {
     "data": {
      "text/latex": [
       "$\\displaystyle \\frac{- 2 U^{k}_{0} + U_0^{k+1} + U_0^{k-1} - \\tau^{2} \\left(U_0^{k+1} c + \\frac{dU}{dx}_0^{k+1} b + f\\right) + \\tau e \\left(- U^{k}_{0} + U_0^{k+1}\\right)}{\\tau^{2} a}$"
      ],
      "text/plain": [
       "(-2*U_0^k + U_0^{k+1} + U_0^{k-1} - \\tau**2*(U_0^{k+1}*c + \\frac{dU}{dx}_0^{k+1}*b + f) + \\tau*e*(-U_0^k + U_0^{k+1}))/(\\tau**2*a)"
      ]
     },
     "execution_count": 28,
     "metadata": {},
     "output_type": "execute_result"
    }
   ],
   "source": [
    "U0kp1dxdx_sol = sym.solve(hyp_left, U0kp1dxdx)[0]\n",
    "U0kp1dxdx_sol"
   ]
  },
  {
   "cell_type": "code",
   "execution_count": 29,
   "metadata": {},
   "outputs": [
    {
     "data": {
      "text/latex": [
       "$\\displaystyle U_0^{k+1} - U_1^{k+1} + \\frac{dU}{dx}_0^{k+1} h + \\frac{h^{2} \\left(- 2 U^{k}_{0} + U_0^{k+1} + U_0^{k-1} - \\tau^{2} \\left(U_0^{k+1} c + \\frac{dU}{dx}_0^{k+1} b + f\\right) + \\tau e \\left(- U^{k}_{0} + U_0^{k+1}\\right)\\right)}{2 \\tau^{2} a}$"
      ],
      "text/plain": [
       "U_0^{k+1} - U_1^{k+1} + \\frac{dU}{dx}_0^{k+1}*h + h**2*(-2*U_0^k + U_0^{k+1} + U_0^{k-1} - \\tau**2*(U_0^{k+1}*c + \\frac{dU}{dx}_0^{k+1}*b + f) + \\tau*e*(-U_0^k + U_0^{k+1}))/(2*\\tau**2*a)"
      ]
     },
     "execution_count": 29,
     "metadata": {},
     "output_type": "execute_result"
    }
   ],
   "source": [
    "U0kp1_to_sol = left_teylor_ex_2p2.subs(U0kp1dxdx, U0kp1dxdx_sol)\n",
    "U0kp1_to_sol"
   ]
  },
  {
   "cell_type": "code",
   "execution_count": 30,
   "metadata": {},
   "outputs": [
    {
     "data": {
      "text/latex": [
       "$\\displaystyle \\frac{U^{k}_{0} \\tau e h^{2} + 2 U^{k}_{0} h^{2} - 2 U_0^{k+1} \\tau^{2} a + U_0^{k+1} \\tau^{2} c h^{2} - U_0^{k+1} \\tau e h^{2} - U_0^{k+1} h^{2} - U_0^{k-1} h^{2} + 2 U_1^{k+1} \\tau^{2} a + \\tau^{2} f h^{2}}{\\tau^{2} h \\left(2 a - b h\\right)}$"
      ],
      "text/plain": [
       "(U_0^k*\\tau*e*h**2 + 2*U_0^k*h**2 - 2*U_0^{k+1}*\\tau**2*a + U_0^{k+1}*\\tau**2*c*h**2 - U_0^{k+1}*\\tau*e*h**2 - U_0^{k+1}*h**2 - U_0^{k-1}*h**2 + 2*U_1^{k+1}*\\tau**2*a + \\tau**2*f*h**2)/(\\tau**2*h*(2*a - b*h))"
      ]
     },
     "execution_count": 30,
     "metadata": {},
     "output_type": "execute_result"
    }
   ],
   "source": [
    "U0kp1dx_sol =sym.solve(U0kp1_to_sol, U0kp1dx)[0]\n",
    "U0kp1dx_sol"
   ]
  },
  {
   "cell_type": "code",
   "execution_count": 31,
   "metadata": {},
   "outputs": [
    {
     "data": {
      "text/latex": [
       "$\\displaystyle U_0^{k+1} \\beta + \\frac{\\alpha \\left(U^{k}_{0} \\tau e h^{2} + 2 U^{k}_{0} h^{2} - 2 U_0^{k+1} \\tau^{2} a + U_0^{k+1} \\tau^{2} c h^{2} - U_0^{k+1} \\tau e h^{2} - U_0^{k+1} h^{2} - U_0^{k-1} h^{2} + 2 U_1^{k+1} \\tau^{2} a + \\tau^{2} f h^{2}\\right)}{\\tau^{2} h \\left(2 a - b h\\right)} - \\varphi_0^{k+1}$"
      ],
      "text/plain": [
       "U_0^{k+1}*\\beta + \\alpha*(U_0^k*\\tau*e*h**2 + 2*U_0^k*h**2 - 2*U_0^{k+1}*\\tau**2*a + U_0^{k+1}*\\tau**2*c*h**2 - U_0^{k+1}*\\tau*e*h**2 - U_0^{k+1}*h**2 - U_0^{k-1}*h**2 + 2*U_1^{k+1}*\\tau**2*a + \\tau**2*f*h**2)/(\\tau**2*h*(2*a - b*h)) - \\varphi_0^{k+1}"
      ]
     },
     "execution_count": 31,
     "metadata": {},
     "output_type": "execute_result"
    }
   ],
   "source": [
    "left_0_ex_eq3 = alph*U0kp1dx_sol + bet*U0kp1 - phi0kp1\n",
    "left_0_ex_eq3"
   ]
  },
  {
   "cell_type": "code",
   "execution_count": 32,
   "metadata": {},
   "outputs": [
    {
     "data": {
      "text/latex": [
       "$\\displaystyle \\frac{2 U^{k}_{0} \\alpha h^{2}}{2 \\alpha \\tau^{2} a - \\alpha \\tau^{2} c h^{2} + \\alpha h^{2} - 2 \\beta \\tau^{2} a h + \\beta \\tau^{2} b h^{2}} - \\frac{U_0^{k-1} \\alpha h^{2}}{2 \\alpha \\tau^{2} a - \\alpha \\tau^{2} c h^{2} + \\alpha h^{2} - 2 \\beta \\tau^{2} a h + \\beta \\tau^{2} b h^{2}} + \\frac{2 U_1^{k+1} \\alpha \\tau^{2} a}{2 \\alpha \\tau^{2} a - \\alpha \\tau^{2} c h^{2} + \\alpha h^{2} - 2 \\beta \\tau^{2} a h + \\beta \\tau^{2} b h^{2}} + \\frac{\\alpha \\tau^{2} f h^{2}}{2 \\alpha \\tau^{2} a - \\alpha \\tau^{2} c h^{2} + \\alpha h^{2} - 2 \\beta \\tau^{2} a h + \\beta \\tau^{2} b h^{2}} + \\varphi_0^{k+1} \\left(- \\frac{2 \\tau^{2} a h}{2 \\alpha \\tau^{2} a - \\alpha \\tau^{2} c h^{2} + \\alpha h^{2} - 2 \\beta \\tau^{2} a h + \\beta \\tau^{2} b h^{2}} + \\frac{\\tau^{2} b h^{2}}{2 \\alpha \\tau^{2} a - \\alpha \\tau^{2} c h^{2} + \\alpha h^{2} - 2 \\beta \\tau^{2} a h + \\beta \\tau^{2} b h^{2}}\\right)$"
      ],
      "text/plain": [
       "2*U_0^k*\\alpha*h**2/(2*\\alpha*\\tau**2*a - \\alpha*\\tau**2*c*h**2 + \\alpha*h**2 - 2*\\beta*\\tau**2*a*h + \\beta*\\tau**2*b*h**2) - U_0^{k-1}*\\alpha*h**2/(2*\\alpha*\\tau**2*a - \\alpha*\\tau**2*c*h**2 + \\alpha*h**2 - 2*\\beta*\\tau**2*a*h + \\beta*\\tau**2*b*h**2) + 2*U_1^{k+1}*\\alpha*\\tau**2*a/(2*\\alpha*\\tau**2*a - \\alpha*\\tau**2*c*h**2 + \\alpha*h**2 - 2*\\beta*\\tau**2*a*h + \\beta*\\tau**2*b*h**2) + \\alpha*\\tau**2*f*h**2/(2*\\alpha*\\tau**2*a - \\alpha*\\tau**2*c*h**2 + \\alpha*h**2 - 2*\\beta*\\tau**2*a*h + \\beta*\\tau**2*b*h**2) + \\varphi_0^{k+1}*(-2*\\tau**2*a*h/(2*\\alpha*\\tau**2*a - \\alpha*\\tau**2*c*h**2 + \\alpha*h**2 - 2*\\beta*\\tau**2*a*h + \\beta*\\tau**2*b*h**2) + \\tau**2*b*h**2/(2*\\alpha*\\tau**2*a - \\alpha*\\tau**2*c*h**2 + \\alpha*h**2 - 2*\\beta*\\tau**2*a*h + \\beta*\\tau**2*b*h**2))"
      ]
     },
     "execution_count": 32,
     "metadata": {},
     "output_type": "execute_result"
    }
   ],
   "source": [
    "ans_l = sym.collect(sym.expand(sym.solve(left_0_ex_eq3, U0kp1)[0]), [U0k, U0km1, U1kp1, phi0kp1])\n",
    "ans_l.subs(e,0)"
   ]
  },
  {
   "cell_type": "markdown",
   "metadata": {},
   "source": [
    "### Итог 2 порядок 2 точки правая точка"
   ]
  },
  {
   "cell_type": "code",
   "execution_count": 33,
   "metadata": {},
   "outputs": [
    {
     "data": {
      "text/latex": [
       "$\\displaystyle U_n^{k+1} - U_{n-1}^{k+1} - \\frac{dU}{dx}_n^{k+1} h + \\frac{\\frac{d^2 U}{dx^2}_n^{k+1} h^{2}}{2}$"
      ],
      "text/plain": [
       "U_n^{k+1} - U_{n-1}^{k+1} - \\frac{dU}{dx}_n^{k+1}*h + \\frac{d^2 U}{dx^2}_n^{k+1}*h**2/2"
      ]
     },
     "execution_count": 33,
     "metadata": {},
     "output_type": "execute_result"
    }
   ],
   "source": [
    "Unkp1dx = sym.Symbol(\"\\\\frac{dU}{dx}_n^{k+1}\")\n",
    "Unkp1dxdx = sym.Symbol(\"\\\\frac{d^2 U}{dx^2}_n^{k+1}\")\n",
    "Unk = sym.Symbol(\"U_n^k\")\n",
    "Unkm1 = sym.Symbol(\"U_n^{k-1}\")\n",
    "Unkp1dxdx = sym.Symbol(\"\\\\frac{d^2 U}{dx^2}_n^{k+1}\")\n",
    "right_teylor_ex_2p2 = Unkp1 - Unkp1dx*h + Unkp1dxdx*(h**2/2)-Unm1kp1\n",
    "right_teylor_ex_2p2"
   ]
  },
  {
   "cell_type": "code",
   "execution_count": 34,
   "metadata": {},
   "outputs": [
    {
     "data": {
      "text/latex": [
       "$\\displaystyle U_n^{k+1} c + \\frac{dU}{dx}_n^{k+1} b + \\frac{d^2 U}{dx^2}_n^{k+1} a + f - \\frac{e \\left(- U^{k}_{n} + U_n^{k+1}\\right)}{\\tau} - \\frac{- 2 U^{k}_{n} + U_n^{k+1} + U_n^{k-1}}{\\tau^{2}}$"
      ],
      "text/plain": [
       "U_n^{k+1}*c + \\frac{dU}{dx}_n^{k+1}*b + \\frac{d^2 U}{dx^2}_n^{k+1}*a + f - e*(-U_n^k + U_n^{k+1})/\\tau - (-2*U_n^k + U_n^{k+1} + U_n^{k-1})/\\tau**2"
      ]
     },
     "execution_count": 34,
     "metadata": {},
     "output_type": "execute_result"
    }
   ],
   "source": [
    "hyp_rigth = (a*Unkp1dxdx + b*Unkp1dx + Unkp1*c + f - left_expl).subs(Uik, Unk).subs(Uikp1, Unkp1).subs(Uikm1, Unkm1)\n",
    "hyp_rigth"
   ]
  },
  {
   "cell_type": "code",
   "execution_count": 35,
   "metadata": {},
   "outputs": [
    {
     "data": {
      "text/latex": [
       "$\\displaystyle \\frac{- 2 U^{k}_{n} + U_n^{k+1} + U_n^{k-1} - \\tau^{2} \\left(U_n^{k+1} c + \\frac{dU}{dx}_n^{k+1} b + f\\right) + \\tau e \\left(- U^{k}_{n} + U_n^{k+1}\\right)}{\\tau^{2} a}$"
      ],
      "text/plain": [
       "(-2*U_n^k + U_n^{k+1} + U_n^{k-1} - \\tau**2*(U_n^{k+1}*c + \\frac{dU}{dx}_n^{k+1}*b + f) + \\tau*e*(-U_n^k + U_n^{k+1}))/(\\tau**2*a)"
      ]
     },
     "execution_count": 35,
     "metadata": {},
     "output_type": "execute_result"
    }
   ],
   "source": [
    "Unkp1dxdx_sol = sym.solve(hyp_rigth, Unkp1dxdx)[0]\n",
    "Unkp1dxdx_sol"
   ]
  },
  {
   "cell_type": "code",
   "execution_count": 36,
   "metadata": {},
   "outputs": [
    {
     "data": {
      "text/latex": [
       "$\\displaystyle U_n^{k+1} - U_{n-1}^{k+1} - \\frac{dU}{dx}_n^{k+1} h + \\frac{h^{2} \\left(- 2 U^{k}_{n} + U_n^{k+1} + U_n^{k-1} - \\tau^{2} \\left(U_n^{k+1} c + \\frac{dU}{dx}_n^{k+1} b + f\\right) + \\tau e \\left(- U^{k}_{n} + U_n^{k+1}\\right)\\right)}{2 \\tau^{2} a}$"
      ],
      "text/plain": [
       "U_n^{k+1} - U_{n-1}^{k+1} - \\frac{dU}{dx}_n^{k+1}*h + h**2*(-2*U_n^k + U_n^{k+1} + U_n^{k-1} - \\tau**2*(U_n^{k+1}*c + \\frac{dU}{dx}_n^{k+1}*b + f) + \\tau*e*(-U_n^k + U_n^{k+1}))/(2*\\tau**2*a)"
      ]
     },
     "execution_count": 36,
     "metadata": {},
     "output_type": "execute_result"
    }
   ],
   "source": [
    "Unkp1_to_sol = right_teylor_ex_2p2.subs(Unkp1dxdx, Unkp1dxdx_sol)\n",
    "Unkp1_to_sol"
   ]
  },
  {
   "cell_type": "code",
   "execution_count": 37,
   "metadata": {},
   "outputs": [
    {
     "data": {
      "text/latex": [
       "$\\displaystyle U^{k}_{n} \\left(- \\frac{\\tau e h^{2}}{2 \\tau^{2} a h + \\tau^{2} b h^{2}} - \\frac{2 h^{2}}{2 \\tau^{2} a h + \\tau^{2} b h^{2}}\\right) + U_n^{k+1} \\cdot \\left(\\frac{2 \\tau^{2} a}{2 \\tau^{2} a h + \\tau^{2} b h^{2}} - \\frac{\\tau^{2} c h^{2}}{2 \\tau^{2} a h + \\tau^{2} b h^{2}} + \\frac{\\tau e h^{2}}{2 \\tau^{2} a h + \\tau^{2} b h^{2}} + \\frac{h^{2}}{2 \\tau^{2} a h + \\tau^{2} b h^{2}}\\right) + \\frac{U_n^{k-1} h^{2}}{2 \\tau^{2} a h + \\tau^{2} b h^{2}} - \\frac{2 U_{n-1}^{k+1} \\tau^{2} a}{2 \\tau^{2} a h + \\tau^{2} b h^{2}} - \\frac{\\tau^{2} f h^{2}}{2 \\tau^{2} a h + \\tau^{2} b h^{2}}$"
      ],
      "text/plain": [
       "U_n^k*(-\\tau*e*h**2/(2*\\tau**2*a*h + \\tau**2*b*h**2) - 2*h**2/(2*\\tau**2*a*h + \\tau**2*b*h**2)) + U_n^{k+1}*(2*\\tau**2*a/(2*\\tau**2*a*h + \\tau**2*b*h**2) - \\tau**2*c*h**2/(2*\\tau**2*a*h + \\tau**2*b*h**2) + \\tau*e*h**2/(2*\\tau**2*a*h + \\tau**2*b*h**2) + h**2/(2*\\tau**2*a*h + \\tau**2*b*h**2)) + U_n^{k-1}*h**2/(2*\\tau**2*a*h + \\tau**2*b*h**2) - 2*U_{n-1}^{k+1}*\\tau**2*a/(2*\\tau**2*a*h + \\tau**2*b*h**2) - \\tau**2*f*h**2/(2*\\tau**2*a*h + \\tau**2*b*h**2)"
      ]
     },
     "execution_count": 37,
     "metadata": {},
     "output_type": "execute_result"
    }
   ],
   "source": [
    "Unkp1dx_sol = sym.collect(sym.expand(sym.solve(Unkp1_to_sol, Unkp1dx)[0]), [Unk, Unkp1, Unkm1, Unm1kp1])\n",
    "Unkp1dx_sol"
   ]
  },
  {
   "cell_type": "code",
   "execution_count": 38,
   "metadata": {},
   "outputs": [
    {
     "data": {
      "text/latex": [
       "$\\displaystyle U_n^{k+1} \\beta + \\alpha \\left(U^{k}_{n} \\left(- \\frac{\\tau e h^{2}}{2 \\tau^{2} a h + \\tau^{2} b h^{2}} - \\frac{2 h^{2}}{2 \\tau^{2} a h + \\tau^{2} b h^{2}}\\right) + U_n^{k+1} \\cdot \\left(\\frac{2 \\tau^{2} a}{2 \\tau^{2} a h + \\tau^{2} b h^{2}} - \\frac{\\tau^{2} c h^{2}}{2 \\tau^{2} a h + \\tau^{2} b h^{2}} + \\frac{\\tau e h^{2}}{2 \\tau^{2} a h + \\tau^{2} b h^{2}} + \\frac{h^{2}}{2 \\tau^{2} a h + \\tau^{2} b h^{2}}\\right) + \\frac{U_n^{k-1} h^{2}}{2 \\tau^{2} a h + \\tau^{2} b h^{2}} - \\frac{2 U_{n-1}^{k+1} \\tau^{2} a}{2 \\tau^{2} a h + \\tau^{2} b h^{2}} - \\frac{\\tau^{2} f h^{2}}{2 \\tau^{2} a h + \\tau^{2} b h^{2}}\\right) - \\varphi_n^{k+1}$"
      ],
      "text/plain": [
       "U_n^{k+1}*\\beta + \\alpha*(U_n^k*(-\\tau*e*h**2/(2*\\tau**2*a*h + \\tau**2*b*h**2) - 2*h**2/(2*\\tau**2*a*h + \\tau**2*b*h**2)) + U_n^{k+1}*(2*\\tau**2*a/(2*\\tau**2*a*h + \\tau**2*b*h**2) - \\tau**2*c*h**2/(2*\\tau**2*a*h + \\tau**2*b*h**2) + \\tau*e*h**2/(2*\\tau**2*a*h + \\tau**2*b*h**2) + h**2/(2*\\tau**2*a*h + \\tau**2*b*h**2)) + U_n^{k-1}*h**2/(2*\\tau**2*a*h + \\tau**2*b*h**2) - 2*U_{n-1}^{k+1}*\\tau**2*a/(2*\\tau**2*a*h + \\tau**2*b*h**2) - \\tau**2*f*h**2/(2*\\tau**2*a*h + \\tau**2*b*h**2)) - \\varphi_n^{k+1}"
      ]
     },
     "execution_count": 38,
     "metadata": {},
     "output_type": "execute_result"
    }
   ],
   "source": [
    "right_n_ex_eq3 = alph*Unkp1dx_sol + bet*Unkp1 - phinkp1\n",
    "right_n_ex_eq3"
   ]
  },
  {
   "cell_type": "code",
   "execution_count": 39,
   "metadata": {},
   "outputs": [
    {
     "data": {
      "text/latex": [
       "$\\displaystyle U^{k}_{n} \\left(\\frac{\\alpha \\tau e h^{2}}{2 \\alpha \\tau^{2} a - \\alpha \\tau^{2} c h^{2} + \\alpha \\tau e h^{2} + \\alpha h^{2} + 2 \\beta \\tau^{2} a h + \\beta \\tau^{2} b h^{2}} + \\frac{2 \\alpha h^{2}}{2 \\alpha \\tau^{2} a - \\alpha \\tau^{2} c h^{2} + \\alpha \\tau e h^{2} + \\alpha h^{2} + 2 \\beta \\tau^{2} a h + \\beta \\tau^{2} b h^{2}}\\right) - \\frac{U_n^{k-1} \\alpha h^{2}}{2 \\alpha \\tau^{2} a - \\alpha \\tau^{2} c h^{2} + \\alpha \\tau e h^{2} + \\alpha h^{2} + 2 \\beta \\tau^{2} a h + \\beta \\tau^{2} b h^{2}} + \\frac{2 U_{n-1}^{k+1} \\alpha \\tau^{2} a}{2 \\alpha \\tau^{2} a - \\alpha \\tau^{2} c h^{2} + \\alpha \\tau e h^{2} + \\alpha h^{2} + 2 \\beta \\tau^{2} a h + \\beta \\tau^{2} b h^{2}} + \\frac{\\alpha \\tau^{2} f h^{2}}{2 \\alpha \\tau^{2} a - \\alpha \\tau^{2} c h^{2} + \\alpha \\tau e h^{2} + \\alpha h^{2} + 2 \\beta \\tau^{2} a h + \\beta \\tau^{2} b h^{2}} + \\varphi_n^{k+1} \\cdot \\left(\\frac{2 \\tau^{2} a h}{2 \\alpha \\tau^{2} a - \\alpha \\tau^{2} c h^{2} + \\alpha \\tau e h^{2} + \\alpha h^{2} + 2 \\beta \\tau^{2} a h + \\beta \\tau^{2} b h^{2}} + \\frac{\\tau^{2} b h^{2}}{2 \\alpha \\tau^{2} a - \\alpha \\tau^{2} c h^{2} + \\alpha \\tau e h^{2} + \\alpha h^{2} + 2 \\beta \\tau^{2} a h + \\beta \\tau^{2} b h^{2}}\\right)$"
      ],
      "text/plain": [
       "U_n^k*(\\alpha*\\tau*e*h**2/(2*\\alpha*\\tau**2*a - \\alpha*\\tau**2*c*h**2 + \\alpha*\\tau*e*h**2 + \\alpha*h**2 + 2*\\beta*\\tau**2*a*h + \\beta*\\tau**2*b*h**2) + 2*\\alpha*h**2/(2*\\alpha*\\tau**2*a - \\alpha*\\tau**2*c*h**2 + \\alpha*\\tau*e*h**2 + \\alpha*h**2 + 2*\\beta*\\tau**2*a*h + \\beta*\\tau**2*b*h**2)) - U_n^{k-1}*\\alpha*h**2/(2*\\alpha*\\tau**2*a - \\alpha*\\tau**2*c*h**2 + \\alpha*\\tau*e*h**2 + \\alpha*h**2 + 2*\\beta*\\tau**2*a*h + \\beta*\\tau**2*b*h**2) + 2*U_{n-1}^{k+1}*\\alpha*\\tau**2*a/(2*\\alpha*\\tau**2*a - \\alpha*\\tau**2*c*h**2 + \\alpha*\\tau*e*h**2 + \\alpha*h**2 + 2*\\beta*\\tau**2*a*h + \\beta*\\tau**2*b*h**2) + \\alpha*\\tau**2*f*h**2/(2*\\alpha*\\tau**2*a - \\alpha*\\tau**2*c*h**2 + \\alpha*\\tau*e*h**2 + \\alpha*h**2 + 2*\\beta*\\tau**2*a*h + \\beta*\\tau**2*b*h**2) + \\varphi_n^{k+1}*(2*\\tau**2*a*h/(2*\\alpha*\\tau**2*a - \\alpha*\\tau**2*c*h**2 + \\alpha*\\tau*e*h**2 + \\alpha*h**2 + 2*\\beta*\\tau**2*a*h + \\beta*\\tau**2*b*h**2) + \\tau**2*b*h**2/(2*\\alpha*\\tau**2*a - \\alpha*\\tau**2*c*h**2 + \\alpha*\\tau*e*h**2 + \\alpha*h**2 + 2*\\beta*\\tau**2*a*h + \\beta*\\tau**2*b*h**2))"
      ]
     },
     "execution_count": 39,
     "metadata": {},
     "output_type": "execute_result"
    }
   ],
   "source": [
    "sym.collect(sym.expand(sym.solve(right_n_ex_eq3, Unkp1)[0]), [Unk, Unkm1, Unm1kp1, phinkp1])"
   ]
  },
  {
   "cell_type": "markdown",
   "metadata": {},
   "source": [
    "### Средние точки неявный метод"
   ]
  },
  {
   "cell_type": "code",
   "execution_count": 45,
   "metadata": {},
   "outputs": [
    {
     "data": {
      "text/latex": [
       "$\\displaystyle U^{k+1}_i c + \\frac{a \\left(- 2 U^{k+1}_i + U^{k+1}_{i+1} + U^{k+1}_{i-1}\\right)}{h^{2}} + \\frac{b \\left(U^{k+1}_{i+1} - U^{k+1}_{i-1}\\right)}{2 h} + f$"
      ],
      "text/plain": [
       "U^{k+1}_i*c + a*(-2*U^{k+1}_i + U^{k+1}_{i+1} + U^{k+1}_{i-1})/h**2 + b*(U^{k+1}_{i+1} - U^{k+1}_{i-1})/(2*h) + f"
      ]
     },
     "execution_count": 45,
     "metadata": {},
     "output_type": "execute_result"
    }
   ],
   "source": [
    "Udx_imp = (Uip1kp1 - Uim1kp1) / (2*h)\n",
    "Udxdx_imp = (Uip1kp1 - 2*Uikp1 + Uim1kp1) / (h**2)\n",
    "right_imp = a*Udxdx_imp + b*Udx_imp + c*Uikp1 + f\n",
    "right_imp"
   ]
  },
  {
   "cell_type": "code",
   "execution_count": 46,
   "metadata": {},
   "outputs": [
    {
     "data": {
      "text/latex": [
       "$\\displaystyle U^{k+1}_i c + \\frac{a \\left(- 2 U^{k+1}_i + U^{k+1}_{i+1} + U^{k+1}_{i-1}\\right)}{h^{2}} + \\frac{b \\left(U^{k+1}_{i+1} - U^{k+1}_{i-1}\\right)}{2 h} + f - \\frac{e \\left(- U^{k}_{i} + U^{k+1}_i\\right)}{\\tau} - \\frac{- 2 U^{k}_{i} + U^{k+1}_i + U^{k-1}_i}{\\tau^{2}}$"
      ],
      "text/plain": [
       "U^{k+1}_i*c + a*(-2*U^{k+1}_i + U^{k+1}_{i+1} + U^{k+1}_{i-1})/h**2 + b*(U^{k+1}_{i+1} - U^{k+1}_{i-1})/(2*h) + f - e*(-U^k_i + U^{k+1}_i)/\\tau - (-2*U^k_i + U^{k+1}_i + U^{k-1}_i)/\\tau**2"
      ]
     },
     "execution_count": 46,
     "metadata": {},
     "output_type": "execute_result"
    }
   ],
   "source": [
    "hyper_imp = right_imp - left_expl\n",
    "hyper_imp"
   ]
  },
  {
   "cell_type": "code",
   "execution_count": 47,
   "metadata": {},
   "outputs": [
    {
     "data": {
      "text/latex": [
       "$\\displaystyle \\frac{U^{k}_{i} \\tau e h^{2} + 2 U^{k}_{i} h^{2} + U^{k+1}_{i+1} \\tau^{2} a + \\frac{U^{k+1}_{i+1} \\tau^{2} b h}{2} + U^{k+1}_{i-1} \\tau^{2} a - \\frac{U^{k+1}_{i-1} \\tau^{2} b h}{2} - U^{k-1}_i h^{2} + \\tau^{2} f h^{2}}{2 \\tau^{2} a - \\tau^{2} c h^{2} + \\tau e h^{2} + h^{2}}$"
      ],
      "text/plain": [
       "(U^k_i*\\tau*e*h**2 + 2*U^k_i*h**2 + U^{k+1}_{i+1}*\\tau**2*a + U^{k+1}_{i+1}*\\tau**2*b*h/2 + U^{k+1}_{i-1}*\\tau**2*a - U^{k+1}_{i-1}*\\tau**2*b*h/2 - U^{k-1}_i*h**2 + \\tau**2*f*h**2)/(2*\\tau**2*a - \\tau**2*c*h**2 + \\tau*e*h**2 + h**2)"
      ]
     },
     "execution_count": 47,
     "metadata": {},
     "output_type": "execute_result"
    }
   ],
   "source": [
    "solve_imp = sym.solve(hyper_imp,Uikp1)[0]\n",
    "solve_imp"
   ]
  },
  {
   "cell_type": "code",
   "execution_count": 48,
   "metadata": {},
   "outputs": [
    {
     "data": {
      "text/latex": [
       "$\\displaystyle U^{k}_{i} \\left(\\frac{\\tau e h^{2}}{2 \\tau^{2} a - \\tau^{2} c h^{2} + \\tau e h^{2} + h^{2}} + \\frac{2 h^{2}}{2 \\tau^{2} a - \\tau^{2} c h^{2} + \\tau e h^{2} + h^{2}}\\right) + U^{k+1}_{i+1} \\left(\\frac{\\tau^{2} a}{2 \\tau^{2} a - \\tau^{2} c h^{2} + \\tau e h^{2} + h^{2}} + \\frac{\\tau^{2} b h}{4 \\tau^{2} a - 2 \\tau^{2} c h^{2} + 2 \\tau e h^{2} + 2 h^{2}}\\right) + U^{k+1}_{i-1} \\left(\\frac{\\tau^{2} a}{2 \\tau^{2} a - \\tau^{2} c h^{2} + \\tau e h^{2} + h^{2}} - \\frac{\\tau^{2} b h}{4 \\tau^{2} a - 2 \\tau^{2} c h^{2} + 2 \\tau e h^{2} + 2 h^{2}}\\right) - \\frac{U^{k-1}_i h^{2}}{2 \\tau^{2} a - \\tau^{2} c h^{2} + \\tau e h^{2} + h^{2}} + \\frac{\\tau^{2} f h^{2}}{2 \\tau^{2} a - \\tau^{2} c h^{2} + \\tau e h^{2} + h^{2}}$"
      ],
      "text/plain": [
       "U^k_i*(\\tau*e*h**2/(2*\\tau**2*a - \\tau**2*c*h**2 + \\tau*e*h**2 + h**2) + 2*h**2/(2*\\tau**2*a - \\tau**2*c*h**2 + \\tau*e*h**2 + h**2)) + U^{k+1}_{i+1}*(\\tau**2*a/(2*\\tau**2*a - \\tau**2*c*h**2 + \\tau*e*h**2 + h**2) + \\tau**2*b*h/(4*\\tau**2*a - 2*\\tau**2*c*h**2 + 2*\\tau*e*h**2 + 2*h**2)) + U^{k+1}_{i-1}*(\\tau**2*a/(2*\\tau**2*a - \\tau**2*c*h**2 + \\tau*e*h**2 + h**2) - \\tau**2*b*h/(4*\\tau**2*a - 2*\\tau**2*c*h**2 + 2*\\tau*e*h**2 + 2*h**2)) - U^{k-1}_i*h**2/(2*\\tau**2*a - \\tau**2*c*h**2 + \\tau*e*h**2 + h**2) + \\tau**2*f*h**2/(2*\\tau**2*a - \\tau**2*c*h**2 + \\tau*e*h**2 + h**2)"
      ]
     },
     "execution_count": 48,
     "metadata": {},
     "output_type": "execute_result"
    }
   ],
   "source": [
    "sym.collect(sym.expand(solve_imp), [Uik, Uip1kp1, Uim1kp1])"
   ]
  },
  {
   "cell_type": "code",
   "execution_count": null,
   "metadata": {},
   "outputs": [],
   "source": []
  },
  {
   "cell_type": "code",
   "execution_count": null,
   "metadata": {},
   "outputs": [],
   "source": []
  }
 ],
 "metadata": {
  "kernelspec": {
   "display_name": "Python 3.9.5 ('ENV': venv)",
   "language": "python",
   "name": "python3"
  },
  "language_info": {
   "codemirror_mode": {
    "name": "ipython",
    "version": 3
   },
   "file_extension": ".py",
   "mimetype": "text/x-python",
   "name": "python",
   "nbconvert_exporter": "python",
   "pygments_lexer": "ipython3",
   "version": "3.9.5"
  },
  "orig_nbformat": 4,
  "vscode": {
   "interpreter": {
    "hash": "5e52385c122fb88a3159f6eb079fd708ca2694bc14dabad55e439941969c2e47"
   }
  }
 },
 "nbformat": 4,
 "nbformat_minor": 2
}
